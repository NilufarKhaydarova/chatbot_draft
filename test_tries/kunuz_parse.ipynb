{
  "nbformat": 4,
  "nbformat_minor": 0,
  "metadata": {
    "colab": {
      "name": "kunuz_parse.ipynb",
      "provenance": [],
      "authorship_tag": "ABX9TyNQo4CaNl3iEE91ccCvRn/e",
      "include_colab_link": true
    },
    "kernelspec": {
      "name": "python3",
      "display_name": "Python 3"
    },
    "language_info": {
      "name": "python"
    }
  },
  "cells": [
    {
      "cell_type": "markdown",
      "metadata": {
        "id": "view-in-github",
        "colab_type": "text"
      },
      "source": [
        "<a href=\"https://colab.research.google.com/github/NilufarKhaydarova/chatbot_draft/blob/main/kunuz_parse.ipynb\" target=\"_parent\"><img src=\"https://colab.research.google.com/assets/colab-badge.svg\" alt=\"Open In Colab\"/></a>"
      ]
    },
    {
      "cell_type": "code",
      "execution_count": 202,
      "metadata": {
        "colab": {
          "base_uri": "https://localhost:8080/"
        },
        "id": "01ckTwdIQZNg",
        "outputId": "e8f65b0f-0e30-4654-8121-eb98f7b076de"
      },
      "outputs": [
        {
          "output_type": "stream",
          "name": "stdout",
          "text": [
            "Looking in indexes: https://pypi.org/simple, https://us-python.pkg.dev/colab-wheels/public/simple/\n",
            "Requirement already satisfied: bs4 in /usr/local/lib/python3.7/dist-packages (0.0.1)\n",
            "Requirement already satisfied: beautifulsoup4 in /usr/local/lib/python3.7/dist-packages (from bs4) (4.6.3)\n"
          ]
        }
      ],
      "source": [
        "pip install bs4"
      ]
    },
    {
      "cell_type": "code",
      "source": [
        "pip install requests"
      ],
      "metadata": {
        "colab": {
          "base_uri": "https://localhost:8080/"
        },
        "id": "vHT7rqA0Q0k_",
        "outputId": "f0f74300-170c-4ffa-b26d-51894f62564c"
      },
      "execution_count": 203,
      "outputs": [
        {
          "output_type": "stream",
          "name": "stdout",
          "text": [
            "Looking in indexes: https://pypi.org/simple, https://us-python.pkg.dev/colab-wheels/public/simple/\n",
            "Requirement already satisfied: requests in /usr/local/lib/python3.7/dist-packages (2.23.0)\n",
            "Requirement already satisfied: urllib3!=1.25.0,!=1.25.1,<1.26,>=1.21.1 in /usr/local/lib/python3.7/dist-packages (from requests) (1.24.3)\n",
            "Requirement already satisfied: chardet<4,>=3.0.2 in /usr/local/lib/python3.7/dist-packages (from requests) (3.0.4)\n",
            "Requirement already satisfied: certifi>=2017.4.17 in /usr/local/lib/python3.7/dist-packages (from requests) (2022.6.15)\n",
            "Requirement already satisfied: idna<3,>=2.5 in /usr/local/lib/python3.7/dist-packages (from requests) (2.10)\n"
          ]
        }
      ]
    },
    {
      "cell_type": "markdown",
      "source": [
        "<h1> Url and coverpage</h1>"
      ],
      "metadata": {
        "id": "uEYMZ9ePS3aj"
      }
    },
    {
      "cell_type": "code",
      "source": [
        "url = \"https://kun.uz/uz/news/list\""
      ],
      "metadata": {
        "id": "ISYuqvCWS_pb"
      },
      "execution_count": 204,
      "outputs": []
    },
    {
      "cell_type": "markdown",
      "source": [
        "List of articles"
      ],
      "metadata": {
        "id": "YiPhVfZLTEu_"
      }
    },
    {
      "cell_type": "code",
      "source": [
        "import requests\n",
        "from bs4 import BeautifulSoup\n",
        "import numpy as np\n",
        "import pandas as pd\n",
        "import re\n",
        "import time\n",
        "\n",
        "r1 = requests.get(url)\n",
        "r1.status_code\n",
        "\n",
        "# We'll save in coverpage the cover page content\n",
        "coverpage = r1.content\n",
        "\n",
        "# Soup creation\n",
        "soup1 = bs4.BeautifulSoup(coverpage, 'html5lib')\n",
        "\n",
        "# News identification\n",
        "coverpage_news = soup1.find_all('a', class_='daily-block')\n",
        "len(coverpage_news)"
      ],
      "metadata": {
        "colab": {
          "base_uri": "https://localhost:8080/"
        },
        "id": "c2zh_u38Sozn",
        "outputId": "86e892a3-2023-464b-8232-f88e6890a6e5"
      },
      "execution_count": 205,
      "outputs": [
        {
          "output_type": "execute_result",
          "data": {
            "text/plain": [
              "27"
            ]
          },
          "metadata": {},
          "execution_count": 205
        }
      ]
    },
    {
      "cell_type": "code",
      "source": [
        "number_of_articles = 27"
      ],
      "metadata": {
        "id": "-ChMJv8Da1Zx"
      },
      "execution_count": 206,
      "outputs": []
    },
    {
      "cell_type": "code",
      "source": [
        "coverpage_news[4]"
      ],
      "metadata": {
        "colab": {
          "base_uri": "https://localhost:8080/"
        },
        "id": "yq0baKDzwoyN",
        "outputId": "24b08a7b-3b27-47c7-dda7-1a9724b02f4c"
      },
      "execution_count": 207,
      "outputs": [
        {
          "output_type": "execute_result",
          "data": {
            "text/plain": [
              "<a class=\"daily-block l-item \" href=\"/uz/news/2022/07/19/rubejnoye-va-xarkivda-vayrongarchiliklar-zaporijjyada-yonayotgan-dalalar-urush-suratlari\">\n",
              "              <p class=\"news-date\">14:20</p>\n",
              "                <div class=\"right-block\">\n",
              "                  <p class=\"news-title\">Rubejnoye va Xarkivda vayrongarchiliklar, Zaporijjyada yonayotgan dalalar. Urush suratlari</p>\n",
              "                  <div class=\"description-box\">\n",
              "                                          <img src=\"https://storage.kun.uz/source/thumbnails/_medium/8/XfhF8QQbAorlmam2fDtc3i7RPXNe2dVf_medium.jpg\"/>\n",
              "                                        <div>\n",
              "                                              <span class=\"description\">Ukrainada urushning 145-kuni o‘tdi.</span>\n",
              "                        <span class=\"read-more\">Batafsil</span>\n",
              "                                                                      </div>\n",
              "                  </div>\n",
              "                </div>\n",
              "            </a>"
            ]
          },
          "metadata": {},
          "execution_count": 207
        }
      ]
    },
    {
      "cell_type": "code",
      "source": [
        "print(url + str(coverpage_news[4].get('href')))"
      ],
      "metadata": {
        "colab": {
          "base_uri": "https://localhost:8080/"
        },
        "id": "bRucFXA1Jvbq",
        "outputId": "7100e50d-1620-457e-b251-3d641dd95592"
      },
      "execution_count": 208,
      "outputs": [
        {
          "output_type": "stream",
          "name": "stdout",
          "text": [
            "https://kun.uz/uz/news/list/uz/news/2022/07/19/rubejnoye-va-xarkivda-vayrongarchiliklar-zaporijjyada-yonayotgan-dalalar-urush-suratlari\n"
          ]
        }
      ]
    },
    {
      "cell_type": "code",
      "source": [
        "\n",
        "# Empty lists for content, links and titles\n",
        "url1 = 'https://kun.uz'\n",
        "news_contents = []\n",
        "list_links = []\n",
        "list_titles = []\n",
        "\n",
        "for n in np.arange(0, number_of_articles):\n",
        "    #link = url + coverpage_news[n].find('href')\n",
        "    link = url1 + str(coverpage_news[n].get('href'))\n",
        "    list_links.append(link)\n",
        "    \n",
        "    # Getting the title\n",
        "    title = coverpage_news[n].find(class_='news-title')\n",
        "    list_titles.append(title)\n",
        "    \n",
        "    # Reading the content (it is divided in paragraphs)\n",
        "    article = requests.get(link)\n",
        "    article_content = article.content\n",
        "    soup_article = BeautifulSoup(article_content, 'html5lib')\n",
        "    body = soup_article.find_all('p')\n",
        "    \n",
        "    # Unifying the paragraphs\n",
        "    list_paragraphs = []\n",
        "    final_article = []\n",
        "    for p in np.arange(0, len(body)):\n",
        "        paragraph = body[p].get_text()\n",
        "        list_paragraphs.append(paragraph)\n",
        "        final_article = \" \".join(list_paragraphs)\n",
        "    \n",
        "    news_contents.append(final_article)\n"
      ],
      "metadata": {
        "id": "ehkFYswS5z8B"
      },
      "execution_count": 209,
      "outputs": []
    },
    {
      "cell_type": "code",
      "source": [
        "print(list_titles)"
      ],
      "metadata": {
        "colab": {
          "base_uri": "https://localhost:8080/"
        },
        "id": "VPbEQbgJKxCl",
        "outputId": "4957111c-fddc-4985-a31d-735cbcceb209"
      },
      "execution_count": 210,
      "outputs": [
        {
          "output_type": "stream",
          "name": "stdout",
          "text": [
            "[<p class=\"news-title\">Putinning urush boshidan buyon ikkinchi safari. U Tehronda kim bilan nimani gaplashadi?</p>, <p class=\"news-title\">The Moscow Times dog‘istonlik 300 nafar harbiy Ukrainada jang qilishdan bosh tortgani haqida xabar berdi</p>, <p class=\"news-title\">Parlament komissiyasi Qoraqalpog‘istondagi voqealarni o‘rganishni davom ettirmoqda</p>, <p class=\"news-title\">Guterrish Ukraina va Rossiyadan oziq-ovqat mahsulotlarini bozorlarga qaytarishga chaqirdi</p>, <p class=\"news-title\">Rubejnoye va Xarkivda vayrongarchiliklar, Zaporijjyada yonayotgan dalalar. Urush suratlari</p>, <p class=\"news-title\">Rossiya ukrainalik jurnalist Dmitriy Gordonni qidiruvga berdi</p>, <p class=\"news-title\">Qashqadaryoning ayrim tumanlarida chang bo‘roni kuzatilmoqda</p>, <p class=\"news-title\">Samarqandda pul evaziga nafaqaga chiqish uchun ish staji va shahodatnoma rasmiylashtirib bermoqchi bo‘lgan mas’ullar ushlandi</p>, <p class=\"news-title\">O‘zbekiston va Gruziya Markaziy Osiyo va Janubiy Kavkazni bog‘lovchi transport yo‘laklari tizimini ishga tushiradi</p>, <p class=\"news-title\">Qoraqalpog‘istonga oid takliflar va referendum – Jahongir Shirinov bilan intervyu</p>, <p class=\"news-title\">Denazavrik sharbatlari va nektarlari bilan yorqin hamda mazali yozgi ta’til</p>, <p class=\"news-title\">FarDUga o‘qishga kiritib qo‘ymoqchi bo‘lgan xalq ta’limi bo‘limi xodimi va dekan o‘rinbosari ushlandi</p>, <p class=\"news-title\">Magnit bo‘ronidan kimlar ko‘proq himoyalanishi kerak? Mutaxassis tavsiyalari</p>, <p class=\"news-title\">Pentagon gipertovushli raketalarni kuzatish uchun sun’iy yo‘ldoshlar uchirishni rejalashtirmoqda</p>, <p class=\"news-title\">O‘zbekistonda 4034 kg va 22 626 dona karantin ostidagi mahsulot yo‘q qilindi</p>, <p class=\"news-title\">Muomaladagi naqd pullar 40,5 trln so‘mdan oshdi – Markaziy bank</p>, <p class=\"news-title\">Yerga kuchli magnit bo‘roni yaqinlashmoqda</p>, <p class=\"news-title\">«O‘lim vodiysi»dan Antarktidagacha - dunyodagi eng issiq harorat qayerda kuzatilgan?</p>, <p class=\"news-title\">«Yangi transferlar bo‘lmaydi». «Real» va Benzemani kutayotgan ehtimoliy muammolar</p>, <p class=\"news-title\">Iyul oyi boshida oziq-ovqat mahsulotlari narxi qanday o‘zgargani ma’lum qilindi</p>, <p class=\"news-title\">Nikohlanuvchilar majburiy tibbiy ko‘rikdan o‘tganidan so‘ng ular nikohini rasmiylashtirish tartibini belgilash nazarda tutilmoqda</p>, <p class=\"news-title\">237 nafar mehnat migranti Koreya Respublikasiga ishlash uchun yetib bordi</p>, <p class=\"news-title\">Yevropada ekstremal issiq va kuchli o‘rmon yong‘inlari. Yuzlab kishilar halok bo‘lmoqda</p>, <p class=\"news-title\">«Toshkentda jinoyatchilikni jilovlash qiyin kechmoqda» – IIBB boshlig‘i o‘rinbosari</p>, <p class=\"news-title\">Zelenskiy UXX kadrlari tekshiruvdan o‘tkazilishini e’lon qildi</p>, <p class=\"news-title\">Buyuk Britaniya baholariga ko‘ra, Rossiya urushda qo‘shinining uchdan bir qismini yo‘qotgan - 50 ming kishi halok bo‘lgan yoki yaralangan</p>, <p class=\"news-title\">O‘zbekistonda tadbirkor ayollar ko‘proq savdo va xizmatlar sohasida faoliyat olib bormoqda </p>]\n"
          ]
        }
      ]
    },
    {
      "cell_type": "code",
      "source": [
        "# df_features\n",
        "df_features = pd.DataFrame(\n",
        "     {'Article Content': news_contents \n",
        "    })\n",
        "\n",
        "# df_show_info\n",
        "df = pd.DataFrame(\n",
        "    {'Title': list_titles,\n",
        "     'Content': news_contents})\n"
      ],
      "metadata": {
        "id": "lTkqC1HndJMa"
      },
      "execution_count": 212,
      "outputs": []
    },
    {
      "cell_type": "code",
      "source": [
        "df.to_csv('uznews.csv',index=False)"
      ],
      "metadata": {
        "id": "YoMLAoLA18CJ"
      },
      "execution_count": 213,
      "outputs": []
    },
    {
      "cell_type": "code",
      "source": [
        "df.head(10)"
      ],
      "metadata": {
        "colab": {
          "base_uri": "https://localhost:8080/",
          "height": 359
        },
        "id": "lT2IoSCBMKVd",
        "outputId": "45e09759-1341-4b33-92e5-2d9c0882c410"
      },
      "execution_count": 214,
      "outputs": [
        {
          "output_type": "execute_result",
          "data": {
            "text/plain": [
              "                                               Title  \\\n",
              "0  [Putinning urush boshidan buyon ikkinchi safar...   \n",
              "1  [The Moscow Times dog‘istonlik 300 nafar harbi...   \n",
              "2  [Parlament komissiyasi Qoraqalpog‘istondagi vo...   \n",
              "3  [Guterrish Ukraina va Rossiyadan oziq-ovqat ma...   \n",
              "4  [Rubejnoye va Xarkivda vayrongarchiliklar, Zap...   \n",
              "5  [Rossiya ukrainalik jurnalist Dmitriy Gordonni...   \n",
              "6  [Qashqadaryoning ayrim tumanlarida chang bo‘ro...   \n",
              "7  [Samarqandda pul evaziga nafaqaga chiqish uchu...   \n",
              "8  [O‘zbekiston va Gruziya Markaziy Osiyo va Janu...   \n",
              "9  [Qoraqalpog‘istonga oid takliflar va referendu...   \n",
              "\n",
              "                                             Content  \n",
              "0  Putin Eron prezidenti Ibrohim Raisiy va Turkiy...  \n",
              "1  The Moscow Times nashrining yozishicha, Ukrain...  \n",
              "2  2022 yilning 15 iyul kuni Oliy Majlis Senati v...  \n",
              "3  BMT bosh kotibi Antoniu Guterrish global oziq-...  \n",
              "4  Ukrainadagi urushning 146-kuni. So‘nggi ma’lum...  \n",
              "5  Rossiya Federatsiyasi rasmiylari bu mamlakatda...  \n",
              "6  Qayd etilishicha, Qashqadaryo viloyatining Bux...  \n",
              "7  Samarqand viloyati IIB axborot xizmatining xab...  \n",
              "8  Tashqi ishlar vazirligi xabariga ko‘ra, muzoka...  \n",
              "9   - Assalomu alaykum! Ma’lumki, Konstitutsiyavi...  "
            ],
            "text/html": [
              "\n",
              "  <div id=\"df-f1cba5c2-1333-4dcf-b811-0755df971809\">\n",
              "    <div class=\"colab-df-container\">\n",
              "      <div>\n",
              "<style scoped>\n",
              "    .dataframe tbody tr th:only-of-type {\n",
              "        vertical-align: middle;\n",
              "    }\n",
              "\n",
              "    .dataframe tbody tr th {\n",
              "        vertical-align: top;\n",
              "    }\n",
              "\n",
              "    .dataframe thead th {\n",
              "        text-align: right;\n",
              "    }\n",
              "</style>\n",
              "<table border=\"1\" class=\"dataframe\">\n",
              "  <thead>\n",
              "    <tr style=\"text-align: right;\">\n",
              "      <th></th>\n",
              "      <th>Title</th>\n",
              "      <th>Content</th>\n",
              "    </tr>\n",
              "  </thead>\n",
              "  <tbody>\n",
              "    <tr>\n",
              "      <th>0</th>\n",
              "      <td>[Putinning urush boshidan buyon ikkinchi safar...</td>\n",
              "      <td>Putin Eron prezidenti Ibrohim Raisiy va Turkiy...</td>\n",
              "    </tr>\n",
              "    <tr>\n",
              "      <th>1</th>\n",
              "      <td>[The Moscow Times dog‘istonlik 300 nafar harbi...</td>\n",
              "      <td>The Moscow Times nashrining yozishicha, Ukrain...</td>\n",
              "    </tr>\n",
              "    <tr>\n",
              "      <th>2</th>\n",
              "      <td>[Parlament komissiyasi Qoraqalpog‘istondagi vo...</td>\n",
              "      <td>2022 yilning 15 iyul kuni Oliy Majlis Senati v...</td>\n",
              "    </tr>\n",
              "    <tr>\n",
              "      <th>3</th>\n",
              "      <td>[Guterrish Ukraina va Rossiyadan oziq-ovqat ma...</td>\n",
              "      <td>BMT bosh kotibi Antoniu Guterrish global oziq-...</td>\n",
              "    </tr>\n",
              "    <tr>\n",
              "      <th>4</th>\n",
              "      <td>[Rubejnoye va Xarkivda vayrongarchiliklar, Zap...</td>\n",
              "      <td>Ukrainadagi urushning 146-kuni. So‘nggi ma’lum...</td>\n",
              "    </tr>\n",
              "    <tr>\n",
              "      <th>5</th>\n",
              "      <td>[Rossiya ukrainalik jurnalist Dmitriy Gordonni...</td>\n",
              "      <td>Rossiya Federatsiyasi rasmiylari bu mamlakatda...</td>\n",
              "    </tr>\n",
              "    <tr>\n",
              "      <th>6</th>\n",
              "      <td>[Qashqadaryoning ayrim tumanlarida chang bo‘ro...</td>\n",
              "      <td>Qayd etilishicha, Qashqadaryo viloyatining Bux...</td>\n",
              "    </tr>\n",
              "    <tr>\n",
              "      <th>7</th>\n",
              "      <td>[Samarqandda pul evaziga nafaqaga chiqish uchu...</td>\n",
              "      <td>Samarqand viloyati IIB axborot xizmatining xab...</td>\n",
              "    </tr>\n",
              "    <tr>\n",
              "      <th>8</th>\n",
              "      <td>[O‘zbekiston va Gruziya Markaziy Osiyo va Janu...</td>\n",
              "      <td>Tashqi ishlar vazirligi xabariga ko‘ra, muzoka...</td>\n",
              "    </tr>\n",
              "    <tr>\n",
              "      <th>9</th>\n",
              "      <td>[Qoraqalpog‘istonga oid takliflar va referendu...</td>\n",
              "      <td>- Assalomu alaykum! Ma’lumki, Konstitutsiyavi...</td>\n",
              "    </tr>\n",
              "  </tbody>\n",
              "</table>\n",
              "</div>\n",
              "      <button class=\"colab-df-convert\" onclick=\"convertToInteractive('df-f1cba5c2-1333-4dcf-b811-0755df971809')\"\n",
              "              title=\"Convert this dataframe to an interactive table.\"\n",
              "              style=\"display:none;\">\n",
              "        \n",
              "  <svg xmlns=\"http://www.w3.org/2000/svg\" height=\"24px\"viewBox=\"0 0 24 24\"\n",
              "       width=\"24px\">\n",
              "    <path d=\"M0 0h24v24H0V0z\" fill=\"none\"/>\n",
              "    <path d=\"M18.56 5.44l.94 2.06.94-2.06 2.06-.94-2.06-.94-.94-2.06-.94 2.06-2.06.94zm-11 1L8.5 8.5l.94-2.06 2.06-.94-2.06-.94L8.5 2.5l-.94 2.06-2.06.94zm10 10l.94 2.06.94-2.06 2.06-.94-2.06-.94-.94-2.06-.94 2.06-2.06.94z\"/><path d=\"M17.41 7.96l-1.37-1.37c-.4-.4-.92-.59-1.43-.59-.52 0-1.04.2-1.43.59L10.3 9.45l-7.72 7.72c-.78.78-.78 2.05 0 2.83L4 21.41c.39.39.9.59 1.41.59.51 0 1.02-.2 1.41-.59l7.78-7.78 2.81-2.81c.8-.78.8-2.07 0-2.86zM5.41 20L4 18.59l7.72-7.72 1.47 1.35L5.41 20z\"/>\n",
              "  </svg>\n",
              "      </button>\n",
              "      \n",
              "  <style>\n",
              "    .colab-df-container {\n",
              "      display:flex;\n",
              "      flex-wrap:wrap;\n",
              "      gap: 12px;\n",
              "    }\n",
              "\n",
              "    .colab-df-convert {\n",
              "      background-color: #E8F0FE;\n",
              "      border: none;\n",
              "      border-radius: 50%;\n",
              "      cursor: pointer;\n",
              "      display: none;\n",
              "      fill: #1967D2;\n",
              "      height: 32px;\n",
              "      padding: 0 0 0 0;\n",
              "      width: 32px;\n",
              "    }\n",
              "\n",
              "    .colab-df-convert:hover {\n",
              "      background-color: #E2EBFA;\n",
              "      box-shadow: 0px 1px 2px rgba(60, 64, 67, 0.3), 0px 1px 3px 1px rgba(60, 64, 67, 0.15);\n",
              "      fill: #174EA6;\n",
              "    }\n",
              "\n",
              "    [theme=dark] .colab-df-convert {\n",
              "      background-color: #3B4455;\n",
              "      fill: #D2E3FC;\n",
              "    }\n",
              "\n",
              "    [theme=dark] .colab-df-convert:hover {\n",
              "      background-color: #434B5C;\n",
              "      box-shadow: 0px 1px 3px 1px rgba(0, 0, 0, 0.15);\n",
              "      filter: drop-shadow(0px 1px 2px rgba(0, 0, 0, 0.3));\n",
              "      fill: #FFFFFF;\n",
              "    }\n",
              "  </style>\n",
              "\n",
              "      <script>\n",
              "        const buttonEl =\n",
              "          document.querySelector('#df-f1cba5c2-1333-4dcf-b811-0755df971809 button.colab-df-convert');\n",
              "        buttonEl.style.display =\n",
              "          google.colab.kernel.accessAllowed ? 'block' : 'none';\n",
              "\n",
              "        async function convertToInteractive(key) {\n",
              "          const element = document.querySelector('#df-f1cba5c2-1333-4dcf-b811-0755df971809');\n",
              "          const dataTable =\n",
              "            await google.colab.kernel.invokeFunction('convertToInteractive',\n",
              "                                                     [key], {});\n",
              "          if (!dataTable) return;\n",
              "\n",
              "          const docLinkHtml = 'Like what you see? Visit the ' +\n",
              "            '<a target=\"_blank\" href=https://colab.research.google.com/notebooks/data_table.ipynb>data table notebook</a>'\n",
              "            + ' to learn more about interactive tables.';\n",
              "          element.innerHTML = '';\n",
              "          dataTable['output_type'] = 'display_data';\n",
              "          await google.colab.output.renderOutput(dataTable, element);\n",
              "          const docLink = document.createElement('div');\n",
              "          docLink.innerHTML = docLinkHtml;\n",
              "          element.appendChild(docLink);\n",
              "        }\n",
              "      </script>\n",
              "    </div>\n",
              "  </div>\n",
              "  "
            ]
          },
          "metadata": {},
          "execution_count": 214
        }
      ]
    },
    {
      "cell_type": "code",
      "source": [
        ""
      ],
      "metadata": {
        "id": "PX4HIyCXBqz3"
      },
      "execution_count": null,
      "outputs": []
    }
  ]
}
